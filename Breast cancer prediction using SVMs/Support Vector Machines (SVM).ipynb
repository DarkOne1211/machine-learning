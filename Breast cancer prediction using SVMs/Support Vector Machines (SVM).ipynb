{
 "cells": [
  {
   "cell_type": "code",
   "execution_count": 13,
   "metadata": {},
   "outputs": [],
   "source": [
    "import pandas as pd\n",
    "import numpy as np\n",
    "import matplotlib.pyplot as plt\n",
    "import seaborn as sns"
   ]
  },
  {
   "cell_type": "code",
   "execution_count": 14,
   "metadata": {},
   "outputs": [],
   "source": [
    "%matplotlib inline"
   ]
  },
  {
   "cell_type": "code",
   "execution_count": 15,
   "metadata": {},
   "outputs": [],
   "source": [
    "from sklearn.datasets import load_breast_cancer"
   ]
  },
  {
   "cell_type": "code",
   "execution_count": 16,
   "metadata": {},
   "outputs": [],
   "source": [
    "cancer = load_breast_cancer()"
   ]
  },
  {
   "cell_type": "code",
   "execution_count": 17,
   "metadata": {},
   "outputs": [
    {
     "data": {
      "text/plain": [
       "dict_keys(['data', 'target', 'target_names', 'DESCR', 'feature_names'])"
      ]
     },
     "execution_count": 17,
     "metadata": {},
     "output_type": "execute_result"
    }
   ],
   "source": [
    "cancer.keys()"
   ]
  },
  {
   "cell_type": "code",
   "execution_count": 18,
   "metadata": {},
   "outputs": [],
   "source": [
    "df_feat = pd.DataFrame(cancer['data'],columns = cancer['feature_names'])"
   ]
  },
  {
   "cell_type": "code",
   "execution_count": null,
   "metadata": {},
   "outputs": [],
   "source": []
  },
  {
   "cell_type": "code",
   "execution_count": 19,
   "metadata": {},
   "outputs": [],
   "source": [
    "from sklearn.cross_validation import train_test_split"
   ]
  },
  {
   "cell_type": "code",
   "execution_count": 20,
   "metadata": {},
   "outputs": [],
   "source": [
    "X = df_feat"
   ]
  },
  {
   "cell_type": "code",
   "execution_count": 21,
   "metadata": {},
   "outputs": [],
   "source": [
    "y = cancer['target']\n",
    "X_train, X_test, y_train, y_test = train_test_split(X, y, test_size=0.3)"
   ]
  },
  {
   "cell_type": "code",
   "execution_count": 22,
   "metadata": {},
   "outputs": [],
   "source": [
    "from sklearn.svm import SVC"
   ]
  },
  {
   "cell_type": "code",
   "execution_count": 24,
   "metadata": {},
   "outputs": [],
   "source": [
    "model = SVC()"
   ]
  },
  {
   "cell_type": "markdown",
   "metadata": {},
   "source": []
  },
  {
   "cell_type": "code",
   "execution_count": 25,
   "metadata": {},
   "outputs": [
    {
     "data": {
      "text/plain": [
       "SVC(C=1.0, cache_size=200, class_weight=None, coef0=0.0,\n",
       "  decision_function_shape='ovr', degree=3, gamma='auto', kernel='rbf',\n",
       "  max_iter=-1, probability=False, random_state=None, shrinking=True,\n",
       "  tol=0.001, verbose=False)"
      ]
     },
     "execution_count": 25,
     "metadata": {},
     "output_type": "execute_result"
    }
   ],
   "source": [
    "model.fit(X_train, y_train)"
   ]
  },
  {
   "cell_type": "code",
   "execution_count": 26,
   "metadata": {},
   "outputs": [],
   "source": [
    "predictions = model.predict(X_test)"
   ]
  },
  {
   "cell_type": "code",
   "execution_count": 27,
   "metadata": {},
   "outputs": [],
   "source": [
    "from sklearn.metrics import classification_report, confusion_matrix"
   ]
  },
  {
   "cell_type": "code",
   "execution_count": 29,
   "metadata": {},
   "outputs": [
    {
     "name": "stdout",
     "output_type": "stream",
     "text": [
      "[[  0  56]\n",
      " [  0 115]]\n",
      "             precision    recall  f1-score   support\n",
      "\n",
      "          0       0.00      0.00      0.00        56\n",
      "          1       0.67      1.00      0.80       115\n",
      "\n",
      "avg / total       0.45      0.67      0.54       171\n",
      "\n"
     ]
    },
    {
     "name": "stderr",
     "output_type": "stream",
     "text": [
      "/home/dark/.conda/envs/my_root/lib/python3.6/site-packages/sklearn/metrics/classification.py:1135: UndefinedMetricWarning: Precision and F-score are ill-defined and being set to 0.0 in labels with no predicted samples.\n",
      "  'precision', 'predicted', average, warn_for)\n"
     ]
    }
   ],
   "source": [
    "print(confusion_matrix(y_test,predictions))\n",
    "print(classification_report(y_test, predictions))"
   ]
  },
  {
   "cell_type": "code",
   "execution_count": 44,
   "metadata": {},
   "outputs": [],
   "source": [
    "from sklearn.grid_search import GridSearchCV"
   ]
  },
  {
   "cell_type": "code",
   "execution_count": 45,
   "metadata": {},
   "outputs": [],
   "source": [
    "param_grid = {'C':[0.1,1,10,100,100], 'gamma':[1,0.1,0.01,0.001,0.001]}"
   ]
  },
  {
   "cell_type": "code",
   "execution_count": 46,
   "metadata": {},
   "outputs": [],
   "source": [
    "grid = GridSearchCV(SVC(),param_grid,verbose=3)"
   ]
  },
  {
   "cell_type": "code",
   "execution_count": 47,
   "metadata": {},
   "outputs": [
    {
     "name": "stdout",
     "output_type": "stream",
     "text": [
      "Fitting 3 folds for each of 25 candidates, totalling 75 fits\n",
      "[CV] C=0.1, gamma=1 ..................................................\n",
      "[CV] ......................... C=0.1, gamma=1, score=0.609023 -   0.0s\n",
      "[CV] C=0.1, gamma=1 ..................................................\n",
      "[CV] ......................... C=0.1, gamma=1, score=0.609023 -   0.0s\n",
      "[CV] C=0.1, gamma=1 ..................................................\n",
      "[CV] ......................... C=0.1, gamma=1, score=0.606061 -   0.0s\n",
      "[CV] C=0.1, gamma=0.1 ................................................\n",
      "[CV] ....................... C=0.1, gamma=0.1, score=0.609023 -   0.0s\n",
      "[CV] C=0.1, gamma=0.1 ................................................\n",
      "[CV] ....................... C=0.1, gamma=0.1, score=0.609023 -   0.0s\n",
      "[CV] C=0.1, gamma=0.1 ................................................\n",
      "[CV] ....................... C=0.1, gamma=0.1, score=0.606061 -   0.0s\n",
      "[CV] C=0.1, gamma=0.01 ...............................................\n",
      "[CV] ...................... C=0.1, gamma=0.01, score=0.609023 -   0.0s\n",
      "[CV] C=0.1, gamma=0.01 ...............................................\n",
      "[CV] ...................... C=0.1, gamma=0.01, score=0.609023 -   0.0s\n",
      "[CV] C=0.1, gamma=0.01 ...............................................\n",
      "[CV] ...................... C=0.1, gamma=0.01, score=0.606061 -   0.0s\n",
      "[CV] C=0.1, gamma=0.001 ..............................................\n",
      "[CV] ..................... C=0.1, gamma=0.001, score=0.609023 -   0.0s\n",
      "[CV] C=0.1, gamma=0.001 ..............................................\n",
      "[CV] ..................... C=0.1, gamma=0.001, score=0.609023 -   0.0s\n",
      "[CV] C=0.1, gamma=0.001 ..............................................\n",
      "[CV] ..................... C=0.1, gamma=0.001, score=0.606061 -   0.0s\n",
      "[CV] C=0.1, gamma=0.001 ..............................................\n",
      "[CV] ..................... C=0.1, gamma=0.001, score=0.609023 -   0.0s\n",
      "[CV] C=0.1, gamma=0.001 ..............................................\n",
      "[CV] ..................... C=0.1, gamma=0.001, score=0.609023 -   0.0s\n",
      "[CV] C=0.1, gamma=0.001 ..............................................\n",
      "[CV] ..................... C=0.1, gamma=0.001, score=0.606061 -   0.0s\n",
      "[CV] C=1, gamma=1 ....................................................\n",
      "[CV] ........................... C=1, gamma=1, score=0.609023 -   0.0s\n",
      "[CV] C=1, gamma=1 ....................................................\n",
      "[CV] ........................... C=1, gamma=1, score=0.609023 -   0.0s\n",
      "[CV] C=1, gamma=1 ....................................................\n",
      "[CV] ........................... C=1, gamma=1, score=0.606061 -   0.0s\n",
      "[CV] C=1, gamma=0.1 ..................................................\n",
      "[CV] ......................... C=1, gamma=0.1, score=0.609023 -   0.0s\n",
      "[CV] C=1, gamma=0.1 ..................................................\n",
      "[CV] ......................... C=1, gamma=0.1, score=0.609023 -   0.0s\n",
      "[CV] C=1, gamma=0.1 ..................................................\n",
      "[CV] ......................... C=1, gamma=0.1, score=0.606061 -   0.0s\n",
      "[CV] C=1, gamma=0.01 .................................................\n",
      "[CV] ........................ C=1, gamma=0.01, score=0.609023 -   0.0s\n",
      "[CV] C=1, gamma=0.01 .................................................\n",
      "[CV] ........................ C=1, gamma=0.01, score=0.624060 -   0.0s\n",
      "[CV] C=1, gamma=0.01 .................................................\n"
     ]
    },
    {
     "name": "stderr",
     "output_type": "stream",
     "text": [
      "[Parallel(n_jobs=1)]: Done   1 out of   1 | elapsed:    0.0s remaining:    0.0s\n",
      "[Parallel(n_jobs=1)]: Done   2 out of   2 | elapsed:    0.0s remaining:    0.0s\n"
     ]
    },
    {
     "name": "stdout",
     "output_type": "stream",
     "text": [
      "[CV] ........................ C=1, gamma=0.01, score=0.606061 -   0.0s\n",
      "[CV] C=1, gamma=0.001 ................................................\n",
      "[CV] ....................... C=1, gamma=0.001, score=0.924812 -   0.0s\n",
      "[CV] C=1, gamma=0.001 ................................................\n",
      "[CV] ....................... C=1, gamma=0.001, score=0.879699 -   0.0s\n",
      "[CV] C=1, gamma=0.001 ................................................\n",
      "[CV] ....................... C=1, gamma=0.001, score=0.924242 -   0.0s\n",
      "[CV] C=1, gamma=0.001 ................................................\n",
      "[CV] ....................... C=1, gamma=0.001, score=0.924812 -   0.0s\n",
      "[CV] C=1, gamma=0.001 ................................................\n",
      "[CV] ....................... C=1, gamma=0.001, score=0.879699 -   0.0s\n",
      "[CV] C=1, gamma=0.001 ................................................\n",
      "[CV] ....................... C=1, gamma=0.001, score=0.924242 -   0.0s\n",
      "[CV] C=10, gamma=1 ...................................................\n",
      "[CV] .......................... C=10, gamma=1, score=0.609023 -   0.0s\n",
      "[CV] C=10, gamma=1 ...................................................\n",
      "[CV] .......................... C=10, gamma=1, score=0.609023 -   0.0s\n",
      "[CV] C=10, gamma=1 ...................................................\n",
      "[CV] .......................... C=10, gamma=1, score=0.606061 -   0.0s\n",
      "[CV] C=10, gamma=0.1 .................................................\n",
      "[CV] ........................ C=10, gamma=0.1, score=0.609023 -   0.0s\n",
      "[CV] C=10, gamma=0.1 .................................................\n",
      "[CV] ........................ C=10, gamma=0.1, score=0.609023 -   0.0s\n",
      "[CV] C=10, gamma=0.1 .................................................\n",
      "[CV] ........................ C=10, gamma=0.1, score=0.606061 -   0.0s\n",
      "[CV] C=10, gamma=0.01 ................................................\n",
      "[CV] ....................... C=10, gamma=0.01, score=0.616541 -   0.0s\n",
      "[CV] C=10, gamma=0.01 ................................................\n",
      "[CV] ....................... C=10, gamma=0.01, score=0.624060 -   0.0s\n",
      "[CV] C=10, gamma=0.01 ................................................\n",
      "[CV] ....................... C=10, gamma=0.01, score=0.606061 -   0.0s\n",
      "[CV] C=10, gamma=0.001 ...............................................\n",
      "[CV] ...................... C=10, gamma=0.001, score=0.924812 -   0.0s\n",
      "[CV] C=10, gamma=0.001 ...............................................\n",
      "[CV] ...................... C=10, gamma=0.001, score=0.887218 -   0.0s\n",
      "[CV] C=10, gamma=0.001 ...............................................\n",
      "[CV] ...................... C=10, gamma=0.001, score=0.924242 -   0.0s\n",
      "[CV] C=10, gamma=0.001 ...............................................\n",
      "[CV] ...................... C=10, gamma=0.001, score=0.924812 -   0.0s\n",
      "[CV] C=10, gamma=0.001 ...............................................\n",
      "[CV] ...................... C=10, gamma=0.001, score=0.887218 -   0.0s\n",
      "[CV] C=10, gamma=0.001 ...............................................\n",
      "[CV] ...................... C=10, gamma=0.001, score=0.924242 -   0.0s\n",
      "[CV] C=100, gamma=1 ..................................................\n",
      "[CV] ......................... C=100, gamma=1, score=0.609023 -   0.0s\n",
      "[CV] C=100, gamma=1 ..................................................\n",
      "[CV] ......................... C=100, gamma=1, score=0.609023 -   0.0s\n",
      "[CV] C=100, gamma=1 ..................................................\n",
      "[CV] ......................... C=100, gamma=1, score=0.606061 -   0.0s\n",
      "[CV] C=100, gamma=0.1 ................................................\n",
      "[CV] ....................... C=100, gamma=0.1, score=0.609023 -   0.0s\n",
      "[CV] C=100, gamma=0.1 ................................................\n",
      "[CV] ....................... C=100, gamma=0.1, score=0.609023 -   0.0s\n",
      "[CV] C=100, gamma=0.1 ................................................\n",
      "[CV] ....................... C=100, gamma=0.1, score=0.606061 -   0.0s\n",
      "[CV] C=100, gamma=0.01 ...............................................\n",
      "[CV] ...................... C=100, gamma=0.01, score=0.616541 -   0.0s\n",
      "[CV] C=100, gamma=0.01 ...............................................\n",
      "[CV] ...................... C=100, gamma=0.01, score=0.624060 -   0.0s\n",
      "[CV] C=100, gamma=0.01 ...............................................\n",
      "[CV] ...................... C=100, gamma=0.01, score=0.606061 -   0.0s\n",
      "[CV] C=100, gamma=0.001 ..............................................\n",
      "[CV] ..................... C=100, gamma=0.001, score=0.924812 -   0.0s\n",
      "[CV] C=100, gamma=0.001 ..............................................\n",
      "[CV] ..................... C=100, gamma=0.001, score=0.887218 -   0.0s\n",
      "[CV] C=100, gamma=0.001 ..............................................\n",
      "[CV] ..................... C=100, gamma=0.001, score=0.924242 -   0.0s\n",
      "[CV] C=100, gamma=0.001 ..............................................\n",
      "[CV] ..................... C=100, gamma=0.001, score=0.924812 -   0.0s\n",
      "[CV] C=100, gamma=0.001 ..............................................\n",
      "[CV] ..................... C=100, gamma=0.001, score=0.887218 -   0.0s\n",
      "[CV] C=100, gamma=0.001 ..............................................\n",
      "[CV] ..................... C=100, gamma=0.001, score=0.924242 -   0.0s\n",
      "[CV] C=100, gamma=1 ..................................................\n",
      "[CV] ......................... C=100, gamma=1, score=0.609023 -   0.0s\n",
      "[CV] C=100, gamma=1 ..................................................\n",
      "[CV] ......................... C=100, gamma=1, score=0.609023 -   0.0s\n",
      "[CV] C=100, gamma=1 ..................................................\n",
      "[CV] ......................... C=100, gamma=1, score=0.606061 -   0.0s\n",
      "[CV] C=100, gamma=0.1 ................................................\n",
      "[CV] ....................... C=100, gamma=0.1, score=0.609023 -   0.0s\n",
      "[CV] C=100, gamma=0.1 ................................................\n",
      "[CV] ....................... C=100, gamma=0.1, score=0.609023 -   0.0s\n",
      "[CV] C=100, gamma=0.1 ................................................\n",
      "[CV] ....................... C=100, gamma=0.1, score=0.606061 -   0.0s\n",
      "[CV] C=100, gamma=0.01 ...............................................\n",
      "[CV] ...................... C=100, gamma=0.01, score=0.616541 -   0.0s\n",
      "[CV] C=100, gamma=0.01 ...............................................\n",
      "[CV] ...................... C=100, gamma=0.01, score=0.624060 -   0.0s\n",
      "[CV] C=100, gamma=0.01 ...............................................\n",
      "[CV] ...................... C=100, gamma=0.01, score=0.606061 -   0.0s\n",
      "[CV] C=100, gamma=0.001 ..............................................\n",
      "[CV] ..................... C=100, gamma=0.001, score=0.924812 -   0.0s\n",
      "[CV] C=100, gamma=0.001 ..............................................\n",
      "[CV] ..................... C=100, gamma=0.001, score=0.887218 -   0.0s\n",
      "[CV] C=100, gamma=0.001 ..............................................\n",
      "[CV] ..................... C=100, gamma=0.001, score=0.924242 -   0.0s\n",
      "[CV] C=100, gamma=0.001 ..............................................\n",
      "[CV] ..................... C=100, gamma=0.001, score=0.924812 -   0.0s\n",
      "[CV] C=100, gamma=0.001 ..............................................\n",
      "[CV] ..................... C=100, gamma=0.001, score=0.887218 -   0.0s\n",
      "[CV] C=100, gamma=0.001 ..............................................\n",
      "[CV] ..................... C=100, gamma=0.001, score=0.924242 -   0.0s\n"
     ]
    },
    {
     "name": "stderr",
     "output_type": "stream",
     "text": [
      "[Parallel(n_jobs=1)]: Done  75 out of  75 | elapsed:    0.7s finished\n"
     ]
    },
    {
     "data": {
      "text/plain": [
       "GridSearchCV(cv=None, error_score='raise',\n",
       "       estimator=SVC(C=1.0, cache_size=200, class_weight=None, coef0=0.0,\n",
       "  decision_function_shape='ovr', degree=3, gamma='auto', kernel='rbf',\n",
       "  max_iter=-1, probability=False, random_state=None, shrinking=True,\n",
       "  tol=0.001, verbose=False),\n",
       "       fit_params={}, iid=True, n_jobs=1,\n",
       "       param_grid={'C': [0.1, 1, 10, 100, 100], 'gamma': [1, 0.1, 0.01, 0.001, 0.001]},\n",
       "       pre_dispatch='2*n_jobs', refit=True, scoring=None, verbose=3)"
      ]
     },
     "execution_count": 47,
     "metadata": {},
     "output_type": "execute_result"
    }
   ],
   "source": [
    "grid.fit(X_train,y_train)"
   ]
  },
  {
   "cell_type": "code",
   "execution_count": 48,
   "metadata": {},
   "outputs": [
    {
     "data": {
      "text/plain": [
       "{'C': 10, 'gamma': 0.001}"
      ]
     },
     "execution_count": 48,
     "metadata": {},
     "output_type": "execute_result"
    }
   ],
   "source": [
    "grid.best_params_"
   ]
  },
  {
   "cell_type": "code",
   "execution_count": 49,
   "metadata": {},
   "outputs": [
    {
     "data": {
      "text/plain": [
       "SVC(C=10, cache_size=200, class_weight=None, coef0=0.0,\n",
       "  decision_function_shape='ovr', degree=3, gamma=0.001, kernel='rbf',\n",
       "  max_iter=-1, probability=False, random_state=None, shrinking=True,\n",
       "  tol=0.001, verbose=False)"
      ]
     },
     "execution_count": 49,
     "metadata": {},
     "output_type": "execute_result"
    }
   ],
   "source": [
    "grid.best_estimator_"
   ]
  },
  {
   "cell_type": "code",
   "execution_count": 50,
   "metadata": {},
   "outputs": [],
   "source": [
    "grid_predictions = grid.predict(X_test)"
   ]
  },
  {
   "cell_type": "code",
   "execution_count": 51,
   "metadata": {},
   "outputs": [
    {
     "name": "stdout",
     "output_type": "stream",
     "text": [
      "[[ 50   6]\n",
      " [ 13 102]]\n",
      "             precision    recall  f1-score   support\n",
      "\n",
      "          0       0.79      0.89      0.84        56\n",
      "          1       0.94      0.89      0.91       115\n",
      "\n",
      "avg / total       0.90      0.89      0.89       171\n",
      "\n"
     ]
    }
   ],
   "source": [
    "print(confusion_matrix(y_test,grid_predictions))\n",
    "print(classification_report(y_test,grid_predictions))"
   ]
  },
  {
   "cell_type": "code",
   "execution_count": null,
   "metadata": {},
   "outputs": [],
   "source": []
  }
 ],
 "metadata": {
  "kernelspec": {
   "display_name": "Python 3",
   "language": "python",
   "name": "python3"
  },
  "language_info": {
   "codemirror_mode": {
    "name": "ipython",
    "version": 3
   },
   "file_extension": ".py",
   "mimetype": "text/x-python",
   "name": "python",
   "nbconvert_exporter": "python",
   "pygments_lexer": "ipython3",
   "version": "3.6.3"
  }
 },
 "nbformat": 4,
 "nbformat_minor": 2
}
